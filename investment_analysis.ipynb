{
 "cells": [
  {
   "cell_type": "code",
   "execution_count": 1,
   "id": "76b0dc28-7457-42b3-a5c2-1513af72b847",
   "metadata": {},
   "outputs": [],
   "source": [
    "## Import Libraries\n",
    "\n",
    "import pandas as pd\n",
    "import numpy\n",
    "import datetime as dt\n",
    "from pathlib import Path\n",
    "\n",
    "%matplotlib inline"
   ]
  },
  {
   "cell_type": "code",
   "execution_count": null,
   "id": "c6dacab8-a634-4c8b-8e2c-8dbc7f17451a",
   "metadata": {},
   "outputs": [],
   "source": [
    "## Read in CSV files and Clean data"
   ]
  },
  {
   "cell_type": "code",
   "execution_count": 8,
   "id": "a9da839a-fda8-437b-8823-07ec8ebae3f4",
   "metadata": {
    "tags": []
   },
   "outputs": [
    {
     "data": {
      "text/html": [
       "<div>\n",
       "<style scoped>\n",
       "    .dataframe tbody tr th:only-of-type {\n",
       "        vertical-align: middle;\n",
       "    }\n",
       "\n",
       "    .dataframe tbody tr th {\n",
       "        vertical-align: top;\n",
       "    }\n",
       "\n",
       "    .dataframe thead th {\n",
       "        text-align: right;\n",
       "    }\n",
       "</style>\n",
       "<table border=\"1\" class=\"dataframe\">\n",
       "  <thead>\n",
       "    <tr style=\"text-align: right;\">\n",
       "      <th></th>\n",
       "      <th>Close</th>\n",
       "    </tr>\n",
       "    <tr>\n",
       "      <th>Date</th>\n",
       "      <th></th>\n",
       "    </tr>\n",
       "  </thead>\n",
       "  <tbody>\n",
       "    <tr>\n",
       "      <th>11/03/2023</th>\n",
       "      <td>4,358.34</td>\n",
       "    </tr>\n",
       "    <tr>\n",
       "      <th>11/02/2023</th>\n",
       "      <td>4,317.78</td>\n",
       "    </tr>\n",
       "    <tr>\n",
       "      <th>11/01/2023</th>\n",
       "      <td>4,237.86</td>\n",
       "    </tr>\n",
       "    <tr>\n",
       "      <th>10/31/2023</th>\n",
       "      <td>4,193.80</td>\n",
       "    </tr>\n",
       "    <tr>\n",
       "      <th>10/30/2023</th>\n",
       "      <td>4,166.82</td>\n",
       "    </tr>\n",
       "  </tbody>\n",
       "</table>\n",
       "</div>"
      ],
      "text/plain": [
       "               Close\n",
       "Date                \n",
       "11/03/2023  4,358.34\n",
       "11/02/2023  4,317.78\n",
       "11/01/2023  4,237.86\n",
       "10/31/2023  4,193.80\n",
       "10/30/2023  4,166.82"
      ]
     },
     "execution_count": 8,
     "metadata": {},
     "output_type": "execute_result"
    }
   ],
   "source": [
    "# Read in S&P 500 (SPX), set Date as index, drop extra columns (keep the \"Close\" column), and drop nulls\n",
    "spx_data = pd.read_csv(Path(\"./SPX.csv\"), index_col=\"Date\")\n",
    "spx_data = spx_data.drop(columns=[\"Open\", \"High\", \"Low\"])\n",
    "spx_data = spx_data.dropna().copy()\n",
    "spx_data.head()"
   ]
  },
  {
   "cell_type": "code",
   "execution_count": 12,
   "id": "b7aaf8ee-fab3-4d34-9b56-beffade1f020",
   "metadata": {
    "tags": []
   },
   "outputs": [
    {
     "data": {
      "text/html": [
       "<div>\n",
       "<style scoped>\n",
       "    .dataframe tbody tr th:only-of-type {\n",
       "        vertical-align: middle;\n",
       "    }\n",
       "\n",
       "    .dataframe tbody tr th {\n",
       "        vertical-align: top;\n",
       "    }\n",
       "\n",
       "    .dataframe thead th {\n",
       "        text-align: right;\n",
       "    }\n",
       "</style>\n",
       "<table border=\"1\" class=\"dataframe\">\n",
       "  <thead>\n",
       "    <tr style=\"text-align: right;\">\n",
       "      <th></th>\n",
       "      <th>Close</th>\n",
       "    </tr>\n",
       "    <tr>\n",
       "      <th>Date</th>\n",
       "      <th></th>\n",
       "    </tr>\n",
       "  </thead>\n",
       "  <tbody>\n",
       "    <tr>\n",
       "      <th>11/03/2023</th>\n",
       "      <td>45.58</td>\n",
       "    </tr>\n",
       "    <tr>\n",
       "      <th>11/02/2023</th>\n",
       "      <td>46.69</td>\n",
       "    </tr>\n",
       "    <tr>\n",
       "      <th>11/01/2023</th>\n",
       "      <td>47.89</td>\n",
       "    </tr>\n",
       "    <tr>\n",
       "      <th>10/31/2023</th>\n",
       "      <td>48.75</td>\n",
       "    </tr>\n",
       "    <tr>\n",
       "      <th>10/30/2023</th>\n",
       "      <td>48.75</td>\n",
       "    </tr>\n",
       "  </tbody>\n",
       "</table>\n",
       "</div>"
      ],
      "text/plain": [
       "            Close\n",
       "Date             \n",
       "11/03/2023  45.58\n",
       "11/02/2023  46.69\n",
       "11/01/2023  47.89\n",
       "10/31/2023  48.75\n",
       "10/30/2023  48.75"
      ]
     },
     "execution_count": 12,
     "metadata": {},
     "output_type": "execute_result"
    }
   ],
   "source": [
    "# Read in 10 Year Treasury Rate (TNX), set Date as index, drop extra columns (keep the \"Close\" column), and drop nulls\n",
    "tnx_data = pd.read_csv(Path(\"./TNX.csv\"), index_col=\"Date\")\n",
    "tnx_data = tnx_data.drop(columns=[\"Open\", \"High\", \"Low\"])\n",
    "tnx_data = tnx_data.dropna().copy()\n",
    "tnx_data.head()"
   ]
  },
  {
   "cell_type": "code",
   "execution_count": 13,
   "id": "1828c1c4-3c87-412f-9ba3-0f5fa7ed4fbc",
   "metadata": {
    "tags": []
   },
   "outputs": [
    {
     "data": {
      "text/html": [
       "<div>\n",
       "<style scoped>\n",
       "    .dataframe tbody tr th:only-of-type {\n",
       "        vertical-align: middle;\n",
       "    }\n",
       "\n",
       "    .dataframe tbody tr th {\n",
       "        vertical-align: top;\n",
       "    }\n",
       "\n",
       "    .dataframe thead th {\n",
       "        text-align: right;\n",
       "    }\n",
       "</style>\n",
       "<table border=\"1\" class=\"dataframe\">\n",
       "  <thead>\n",
       "    <tr style=\"text-align: right;\">\n",
       "      <th></th>\n",
       "      <th>Close</th>\n",
       "    </tr>\n",
       "    <tr>\n",
       "      <th>Date</th>\n",
       "      <th></th>\n",
       "    </tr>\n",
       "  </thead>\n",
       "  <tbody>\n",
       "    <tr>\n",
       "      <th>11/03/2023</th>\n",
       "      <td>34,617</td>\n",
       "    </tr>\n",
       "    <tr>\n",
       "      <th>11/02/2023</th>\n",
       "      <td>34,929</td>\n",
       "    </tr>\n",
       "    <tr>\n",
       "      <th>11/01/2023</th>\n",
       "      <td>35,307</td>\n",
       "    </tr>\n",
       "    <tr>\n",
       "      <th>10/31/2023</th>\n",
       "      <td>34,651</td>\n",
       "    </tr>\n",
       "    <tr>\n",
       "      <th>10/30/2023</th>\n",
       "      <td>34,464</td>\n",
       "    </tr>\n",
       "  </tbody>\n",
       "</table>\n",
       "</div>"
      ],
      "text/plain": [
       "             Close\n",
       "Date              \n",
       "11/03/2023  34,617\n",
       "11/02/2023  34,929\n",
       "11/01/2023  35,307\n",
       "10/31/2023  34,651\n",
       "10/30/2023  34,464"
      ]
     },
     "execution_count": 13,
     "metadata": {},
     "output_type": "execute_result"
    }
   ],
   "source": [
    "# Read in Bitcoin, set Date as index, drop extra columns (keep the \"Close\" column), and drop nulls\n",
    "bitcoin_data = pd.read_csv(Path(\"./bitcoin.csv\"), index_col=\"Date\")\n",
    "bitcoin_data = bitcoin_data.drop(columns=[\"Open\", \"High\", \"Low\"])\n",
    "bitcoin_data = bitcoin_data.dropna().copy()\n",
    "bitcoin_data.head()"
   ]
  },
  {
   "cell_type": "code",
   "execution_count": 14,
   "id": "8675d3a4-69d3-420a-b283-c10b7668fac1",
   "metadata": {
    "tags": []
   },
   "outputs": [
    {
     "data": {
      "text/html": [
       "<div>\n",
       "<style scoped>\n",
       "    .dataframe tbody tr th:only-of-type {\n",
       "        vertical-align: middle;\n",
       "    }\n",
       "\n",
       "    .dataframe tbody tr th {\n",
       "        vertical-align: top;\n",
       "    }\n",
       "\n",
       "    .dataframe thead th {\n",
       "        text-align: right;\n",
       "    }\n",
       "</style>\n",
       "<table border=\"1\" class=\"dataframe\">\n",
       "  <thead>\n",
       "    <tr style=\"text-align: right;\">\n",
       "      <th></th>\n",
       "      <th>Close</th>\n",
       "    </tr>\n",
       "    <tr>\n",
       "      <th>Date</th>\n",
       "      <th></th>\n",
       "    </tr>\n",
       "  </thead>\n",
       "  <tbody>\n",
       "    <tr>\n",
       "      <th>11/03/2023</th>\n",
       "      <td>1,999.20</td>\n",
       "    </tr>\n",
       "    <tr>\n",
       "      <th>11/02/2023</th>\n",
       "      <td>1,993.50</td>\n",
       "    </tr>\n",
       "    <tr>\n",
       "      <th>11/01/2023</th>\n",
       "      <td>1,987.50</td>\n",
       "    </tr>\n",
       "    <tr>\n",
       "      <th>10/31/2023</th>\n",
       "      <td>1,994.30</td>\n",
       "    </tr>\n",
       "    <tr>\n",
       "      <th>10/30/2023</th>\n",
       "      <td>2,005.60</td>\n",
       "    </tr>\n",
       "  </tbody>\n",
       "</table>\n",
       "</div>"
      ],
      "text/plain": [
       "               Close\n",
       "Date                \n",
       "11/03/2023  1,999.20\n",
       "11/02/2023  1,993.50\n",
       "11/01/2023  1,987.50\n",
       "10/31/2023  1,994.30\n",
       "10/30/2023  2,005.60"
      ]
     },
     "execution_count": 14,
     "metadata": {},
     "output_type": "execute_result"
    }
   ],
   "source": [
    "# Read in Gold, set Date as index, drop extra columns (keep the \"Close\" column), and drop nulls\n",
    "gold_data = pd.read_csv(Path(\"./gold.csv\"), index_col=\"Date\")\n",
    "gold_data = gold_data.drop(columns=[\"Open\", \"High\", \"Low\"])\n",
    "gold_data = gold_data.dropna().copy()\n",
    "gold_data.head()"
   ]
  },
  {
   "cell_type": "code",
   "execution_count": 15,
   "id": "cfc65a0e-c532-42ee-a546-2426c40c945a",
   "metadata": {
    "tags": []
   },
   "outputs": [
    {
     "data": {
      "text/html": [
       "<div>\n",
       "<style scoped>\n",
       "    .dataframe tbody tr th:only-of-type {\n",
       "        vertical-align: middle;\n",
       "    }\n",
       "\n",
       "    .dataframe tbody tr th {\n",
       "        vertical-align: top;\n",
       "    }\n",
       "\n",
       "    .dataframe thead th {\n",
       "        text-align: right;\n",
       "    }\n",
       "</style>\n",
       "<table border=\"1\" class=\"dataframe\">\n",
       "  <thead>\n",
       "    <tr style=\"text-align: right;\">\n",
       "      <th></th>\n",
       "      <th>Close</th>\n",
       "    </tr>\n",
       "    <tr>\n",
       "      <th>Date</th>\n",
       "      <th></th>\n",
       "    </tr>\n",
       "  </thead>\n",
       "  <tbody>\n",
       "    <tr>\n",
       "      <th>11/03/2023</th>\n",
       "      <td>23.285</td>\n",
       "    </tr>\n",
       "    <tr>\n",
       "      <th>11/02/2023</th>\n",
       "      <td>22.846</td>\n",
       "    </tr>\n",
       "    <tr>\n",
       "      <th>11/01/2023</th>\n",
       "      <td>22.790</td>\n",
       "    </tr>\n",
       "    <tr>\n",
       "      <th>10/31/2023</th>\n",
       "      <td>22.952</td>\n",
       "    </tr>\n",
       "    <tr>\n",
       "      <th>10/30/2023</th>\n",
       "      <td>23.396</td>\n",
       "    </tr>\n",
       "  </tbody>\n",
       "</table>\n",
       "</div>"
      ],
      "text/plain": [
       "             Close\n",
       "Date              \n",
       "11/03/2023  23.285\n",
       "11/02/2023  22.846\n",
       "11/01/2023  22.790\n",
       "10/31/2023  22.952\n",
       "10/30/2023  23.396"
      ]
     },
     "execution_count": 15,
     "metadata": {},
     "output_type": "execute_result"
    }
   ],
   "source": [
    "# Read in Silver, set Date as index, drop extra columns (keep the \"Close\" column), and drop nulls\n",
    "silver_data = pd.read_csv(Path(\"./silver.csv\"), index_col=\"Date\")\n",
    "silver_data = silver_data.drop(columns=[\"Open\", \"High\", \"Low\"])\n",
    "silver_data = silver_data.dropna().copy()\n",
    "silver_data.head()"
   ]
  },
  {
   "cell_type": "code",
   "execution_count": 19,
   "id": "905e2d75-a4b0-44fa-9162-07f32b7eb204",
   "metadata": {
    "tags": []
   },
   "outputs": [
    {
     "data": {
      "text/html": [
       "<div>\n",
       "<style scoped>\n",
       "    .dataframe tbody tr th:only-of-type {\n",
       "        vertical-align: middle;\n",
       "    }\n",
       "\n",
       "    .dataframe tbody tr th {\n",
       "        vertical-align: top;\n",
       "    }\n",
       "\n",
       "    .dataframe thead th {\n",
       "        text-align: right;\n",
       "    }\n",
       "</style>\n",
       "<table border=\"1\" class=\"dataframe\">\n",
       "  <thead>\n",
       "    <tr style=\"text-align: right;\">\n",
       "      <th></th>\n",
       "      <th>Close</th>\n",
       "    </tr>\n",
       "    <tr>\n",
       "      <th>Date</th>\n",
       "      <th></th>\n",
       "    </tr>\n",
       "  </thead>\n",
       "  <tbody>\n",
       "    <tr>\n",
       "      <th>11/03/2023</th>\n",
       "      <td>74.41</td>\n",
       "    </tr>\n",
       "    <tr>\n",
       "      <th>11/02/2023</th>\n",
       "      <td>73.69</td>\n",
       "    </tr>\n",
       "    <tr>\n",
       "      <th>11/01/2023</th>\n",
       "      <td>72.87</td>\n",
       "    </tr>\n",
       "    <tr>\n",
       "      <th>10/31/2023</th>\n",
       "      <td>72.57</td>\n",
       "    </tr>\n",
       "    <tr>\n",
       "      <th>10/30/2023</th>\n",
       "      <td>72.38</td>\n",
       "    </tr>\n",
       "  </tbody>\n",
       "</table>\n",
       "</div>"
      ],
      "text/plain": [
       "            Close\n",
       "Date             \n",
       "11/03/2023  74.41\n",
       "11/02/2023  73.69\n",
       "11/01/2023  72.87\n",
       "10/31/2023  72.57\n",
       "10/30/2023  72.38"
      ]
     },
     "execution_count": 19,
     "metadata": {},
     "output_type": "execute_result"
    }
   ],
   "source": [
    "# Read in High Yield Corporate Bond ETF (HYG), set Date as index, drop extra columns (keep the \"Close\" column), and drop nulls\n",
    "hyg_data = pd.read_csv(Path(\"./high_yield_bond.csv\"), index_col=\"Date\")\n",
    "hyg_data = hyg_data.drop(columns=[\"Open\", \"High\", \"Low\", \"Volume\"])\n",
    "hyg_data = hyg_data.dropna().copy()\n",
    "hyg_data.head()"
   ]
  },
  {
   "cell_type": "code",
   "execution_count": 20,
   "id": "499adbf4-bc40-4c9f-a529-3657f07ed191",
   "metadata": {
    "tags": []
   },
   "outputs": [
    {
     "data": {
      "text/html": [
       "<div>\n",
       "<style scoped>\n",
       "    .dataframe tbody tr th:only-of-type {\n",
       "        vertical-align: middle;\n",
       "    }\n",
       "\n",
       "    .dataframe tbody tr th {\n",
       "        vertical-align: top;\n",
       "    }\n",
       "\n",
       "    .dataframe thead th {\n",
       "        text-align: right;\n",
       "    }\n",
       "</style>\n",
       "<table border=\"1\" class=\"dataframe\">\n",
       "  <thead>\n",
       "    <tr style=\"text-align: right;\">\n",
       "      <th></th>\n",
       "      <th>Close</th>\n",
       "    </tr>\n",
       "    <tr>\n",
       "      <th>Date</th>\n",
       "      <th></th>\n",
       "    </tr>\n",
       "  </thead>\n",
       "  <tbody>\n",
       "    <tr>\n",
       "      <th>11/03/2023</th>\n",
       "      <td>13,478.28</td>\n",
       "    </tr>\n",
       "    <tr>\n",
       "      <th>11/02/2023</th>\n",
       "      <td>13,294.19</td>\n",
       "    </tr>\n",
       "    <tr>\n",
       "      <th>11/01/2023</th>\n",
       "      <td>13,061.47</td>\n",
       "    </tr>\n",
       "    <tr>\n",
       "      <th>10/31/2023</th>\n",
       "      <td>12,851.24</td>\n",
       "    </tr>\n",
       "    <tr>\n",
       "      <th>10/30/2023</th>\n",
       "      <td>12,789.48</td>\n",
       "    </tr>\n",
       "  </tbody>\n",
       "</table>\n",
       "</div>"
      ],
      "text/plain": [
       "                Close\n",
       "Date                 \n",
       "11/03/2023  13,478.28\n",
       "11/02/2023  13,294.19\n",
       "11/01/2023  13,061.47\n",
       "10/31/2023  12,851.24\n",
       "10/30/2023  12,789.48"
      ]
     },
     "execution_count": 20,
     "metadata": {},
     "output_type": "execute_result"
    }
   ],
   "source": [
    "# Read in Nasdaq Composite (COMP), set Date as index, drop extra columns (keep the \"Close\" column), and drop nulls\n",
    "nasdaq_data = pd.read_csv(Path(\"./nasdaq_COMP.csv\"), index_col=\"Date\")\n",
    "nasdaq_data = nasdaq_data.drop(columns=[\"Open\", \"High\", \"Low\"])\n",
    "nasdaq_data = nasdaq_data.dropna().copy()\n",
    "nasdaq_data.head()"
   ]
  },
  {
   "cell_type": "code",
   "execution_count": 21,
   "id": "55a11052-55b3-436f-937d-4dc0543aa128",
   "metadata": {
    "tags": []
   },
   "outputs": [
    {
     "data": {
      "text/html": [
       "<div>\n",
       "<style scoped>\n",
       "    .dataframe tbody tr th:only-of-type {\n",
       "        vertical-align: middle;\n",
       "    }\n",
       "\n",
       "    .dataframe tbody tr th {\n",
       "        vertical-align: top;\n",
       "    }\n",
       "\n",
       "    .dataframe thead th {\n",
       "        text-align: right;\n",
       "    }\n",
       "</style>\n",
       "<table border=\"1\" class=\"dataframe\">\n",
       "  <thead>\n",
       "    <tr style=\"text-align: right;\">\n",
       "      <th></th>\n",
       "      <th>Close</th>\n",
       "    </tr>\n",
       "    <tr>\n",
       "      <th>Date</th>\n",
       "      <th></th>\n",
       "    </tr>\n",
       "  </thead>\n",
       "  <tbody>\n",
       "    <tr>\n",
       "      <th>11/03/2023</th>\n",
       "      <td>2,478.34</td>\n",
       "    </tr>\n",
       "    <tr>\n",
       "      <th>11/02/2023</th>\n",
       "      <td>2,430.75</td>\n",
       "    </tr>\n",
       "    <tr>\n",
       "      <th>11/01/2023</th>\n",
       "      <td>2,381.14</td>\n",
       "    </tr>\n",
       "    <tr>\n",
       "      <th>10/31/2023</th>\n",
       "      <td>2,366.40</td>\n",
       "    </tr>\n",
       "    <tr>\n",
       "      <th>10/30/2023</th>\n",
       "      <td>2,345.08</td>\n",
       "    </tr>\n",
       "  </tbody>\n",
       "</table>\n",
       "</div>"
      ],
      "text/plain": [
       "               Close\n",
       "Date                \n",
       "11/03/2023  2,478.34\n",
       "11/02/2023  2,430.75\n",
       "11/01/2023  2,381.14\n",
       "10/31/2023  2,366.40\n",
       "10/30/2023  2,345.08"
      ]
     },
     "execution_count": 21,
     "metadata": {},
     "output_type": "execute_result"
    }
   ],
   "source": [
    "# Read in S&P 400 MidCap Index (MID), set Date as index, drop extra columns (keep the \"Close\" column), and drop nulls\n",
    "sp400_data = pd.read_csv(Path(\"./sp400_MID.csv\"), index_col=\"Date\")\n",
    "sp400_data = sp400_data.drop(columns=[\"Open\", \"High\", \"Low\"])\n",
    "sp400_data = sp400_data.dropna().copy()\n",
    "sp400_data.head()"
   ]
  },
  {
   "cell_type": "code",
   "execution_count": 22,
   "id": "c7677e2e-8047-41c8-bee2-d362acb087ca",
   "metadata": {
    "tags": []
   },
   "outputs": [
    {
     "data": {
      "text/html": [
       "<div>\n",
       "<style scoped>\n",
       "    .dataframe tbody tr th:only-of-type {\n",
       "        vertical-align: middle;\n",
       "    }\n",
       "\n",
       "    .dataframe tbody tr th {\n",
       "        vertical-align: top;\n",
       "    }\n",
       "\n",
       "    .dataframe thead th {\n",
       "        text-align: right;\n",
       "    }\n",
       "</style>\n",
       "<table border=\"1\" class=\"dataframe\">\n",
       "  <thead>\n",
       "    <tr style=\"text-align: right;\">\n",
       "      <th></th>\n",
       "      <th>Close</th>\n",
       "    </tr>\n",
       "    <tr>\n",
       "      <th>Date</th>\n",
       "      <th></th>\n",
       "    </tr>\n",
       "  </thead>\n",
       "  <tbody>\n",
       "    <tr>\n",
       "      <th>11/02/2023</th>\n",
       "      <td>215.06</td>\n",
       "    </tr>\n",
       "    <tr>\n",
       "      <th>11/01/2023</th>\n",
       "      <td>208.61</td>\n",
       "    </tr>\n",
       "    <tr>\n",
       "      <th>10/31/2023</th>\n",
       "      <td>207.55</td>\n",
       "    </tr>\n",
       "    <tr>\n",
       "      <th>10/30/2023</th>\n",
       "      <td>203.41</td>\n",
       "    </tr>\n",
       "    <tr>\n",
       "      <th>10/27/2023</th>\n",
       "      <td>202.79</td>\n",
       "    </tr>\n",
       "  </tbody>\n",
       "</table>\n",
       "</div>"
      ],
      "text/plain": [
       "             Close\n",
       "Date              \n",
       "11/02/2023  215.06\n",
       "11/01/2023  208.61\n",
       "10/31/2023  207.55\n",
       "10/30/2023  203.41\n",
       "10/27/2023  202.79"
      ]
     },
     "execution_count": 22,
     "metadata": {},
     "output_type": "execute_result"
    }
   ],
   "source": [
    "# Read in S&P 500 Real Estate, set Date as index, drop extra columns (keep the \"Close\" column), and drop nulls\n",
    "real_estate_data = pd.read_csv(Path(\"./sp500_real_estate.csv\"), index_col=\"Date\")\n",
    "real_estate_data = real_estate_data.drop(columns=[\"Open\", \"High\", \"Low\"])\n",
    "real_estate_data = real_estate_data.dropna().copy()\n",
    "real_estate_data.head()"
   ]
  },
  {
   "cell_type": "code",
   "execution_count": 23,
   "id": "26b73e28-d516-4429-992f-41c08746df5f",
   "metadata": {
    "tags": []
   },
   "outputs": [
    {
     "data": {
      "text/html": [
       "<div>\n",
       "<style scoped>\n",
       "    .dataframe tbody tr th:only-of-type {\n",
       "        vertical-align: middle;\n",
       "    }\n",
       "\n",
       "    .dataframe tbody tr th {\n",
       "        vertical-align: top;\n",
       "    }\n",
       "\n",
       "    .dataframe thead th {\n",
       "        text-align: right;\n",
       "    }\n",
       "</style>\n",
       "<table border=\"1\" class=\"dataframe\">\n",
       "  <thead>\n",
       "    <tr style=\"text-align: right;\">\n",
       "      <th></th>\n",
       "      <th>Close</th>\n",
       "    </tr>\n",
       "    <tr>\n",
       "      <th>Date</th>\n",
       "      <th></th>\n",
       "    </tr>\n",
       "  </thead>\n",
       "  <tbody>\n",
       "    <tr>\n",
       "      <th>11/03/2023</th>\n",
       "      <td>1,148.40</td>\n",
       "    </tr>\n",
       "    <tr>\n",
       "      <th>11/02/2023</th>\n",
       "      <td>1,117.89</td>\n",
       "    </tr>\n",
       "    <tr>\n",
       "      <th>11/01/2023</th>\n",
       "      <td>1,088.94</td>\n",
       "    </tr>\n",
       "    <tr>\n",
       "      <th>10/31/2023</th>\n",
       "      <td>1,084.10</td>\n",
       "    </tr>\n",
       "    <tr>\n",
       "      <th>10/30/2023</th>\n",
       "      <td>1,075.56</td>\n",
       "    </tr>\n",
       "  </tbody>\n",
       "</table>\n",
       "</div>"
      ],
      "text/plain": [
       "               Close\n",
       "Date                \n",
       "11/03/2023  1,148.40\n",
       "11/02/2023  1,117.89\n",
       "11/01/2023  1,088.94\n",
       "10/31/2023  1,084.10\n",
       "10/30/2023  1,075.56"
      ]
     },
     "execution_count": 23,
     "metadata": {},
     "output_type": "execute_result"
    }
   ],
   "source": [
    "# Read in S&P SmallCap 600 (SML), set Date as index, drop extra columns (keep the \"Close\" column), and drop nulls\n",
    "sp600_data = pd.read_csv(Path(\"./sp600_SML.csv\"), index_col=\"Date\")\n",
    "sp600_data = sp600_data.drop(columns=[\"Open\", \"High\", \"Low\"])\n",
    "sp600_data = sp600_data.dropna().copy()\n",
    "sp600_data.head()"
   ]
  },
  {
   "cell_type": "code",
   "execution_count": null,
   "id": "8746f85b-fe9d-4bb5-9e28-d0605feda72b",
   "metadata": {},
   "outputs": [],
   "source": [
    "# Calculate daily returns for SPX"
   ]
  },
  {
   "cell_type": "code",
   "execution_count": null,
   "id": "e7e9d01a-e21b-4dc3-8320-a1b8744a139a",
   "metadata": {},
   "outputs": [],
   "source": [
    "# Calculate daily returns for TNX"
   ]
  },
  {
   "cell_type": "code",
   "execution_count": null,
   "id": "d7e9f636-32cb-425d-823a-6ffa618f4383",
   "metadata": {},
   "outputs": [],
   "source": [
    "# Calculate daily returns for Bitcoin"
   ]
  },
  {
   "cell_type": "code",
   "execution_count": null,
   "id": "b7427ca5-e5be-4cca-9e44-79c4fc1cd186",
   "metadata": {},
   "outputs": [],
   "source": [
    "# Calculate daily returns for Gold"
   ]
  },
  {
   "cell_type": "code",
   "execution_count": null,
   "id": "72686ee4-ff7f-47df-aa43-eba2b56c183d",
   "metadata": {},
   "outputs": [],
   "source": [
    "# Calculate daily returns for Silver"
   ]
  },
  {
   "cell_type": "code",
   "execution_count": null,
   "id": "09a9ad6a-2bc4-4515-ae42-47041d3990cf",
   "metadata": {},
   "outputs": [],
   "source": [
    "# Calculate daily returns for High Yield Bond"
   ]
  },
  {
   "cell_type": "code",
   "execution_count": null,
   "id": "74178e23-4513-4a7d-8593-08bdcc784430",
   "metadata": {},
   "outputs": [],
   "source": [
    "# Calculate daily returns for Nasdaq Composite"
   ]
  },
  {
   "cell_type": "code",
   "execution_count": null,
   "id": "4a7406d3-e482-4954-b5da-88aedba5eb5a",
   "metadata": {},
   "outputs": [],
   "source": [
    "# Calculate daily returns for SP400 MID"
   ]
  },
  {
   "cell_type": "code",
   "execution_count": null,
   "id": "81aca01d-a7fd-4f54-961b-9eab82a65b19",
   "metadata": {},
   "outputs": [],
   "source": [
    "# Calculate daily returns for SP500 Real Estate"
   ]
  },
  {
   "cell_type": "code",
   "execution_count": null,
   "id": "5ff52efa-dd59-434b-8266-afcb72af8c39",
   "metadata": {},
   "outputs": [],
   "source": [
    "# Calculate daily returns for SP600 SML"
   ]
  },
  {
   "cell_type": "code",
   "execution_count": null,
   "id": "c3480596-477c-413d-934e-76527577d601",
   "metadata": {},
   "outputs": [],
   "source": [
    "# Join the returns data into a single DataFrame"
   ]
  },
  {
   "cell_type": "code",
   "execution_count": null,
   "id": "1878b916-cb8f-4ab0-b2e0-c30711d4acd8",
   "metadata": {},
   "outputs": [],
   "source": [
    "### Conduct Quantitative Analysis"
   ]
  },
  {
   "cell_type": "code",
   "execution_count": null,
   "id": "197e194d-f0cf-4e35-ad4c-4da00b994097",
   "metadata": {},
   "outputs": [],
   "source": [
    "# Plot Daily Returns"
   ]
  },
  {
   "cell_type": "code",
   "execution_count": null,
   "id": "d205b6f9-7a2e-48c6-a700-c9c14b209ddc",
   "metadata": {},
   "outputs": [],
   "source": [
    "# Calculate and Plot Cumulative Returns"
   ]
  },
  {
   "cell_type": "code",
   "execution_count": null,
   "id": "2b93cc6e-99fa-4a75-9829-8fd315230f6a",
   "metadata": {},
   "outputs": [],
   "source": [
    "## Risk Analysis"
   ]
  },
  {
   "cell_type": "code",
   "execution_count": null,
   "id": "e2ce6de9-d316-4cc0-8273-be55ef837fb0",
   "metadata": {},
   "outputs": [],
   "source": [
    "# Create a box plot to show risk"
   ]
  },
  {
   "cell_type": "code",
   "execution_count": null,
   "id": "e7cdbb7a-501d-49d4-9ce4-33eee4ddd92e",
   "metadata": {},
   "outputs": [],
   "source": [
    "# Calculate the daily standard deviations of all portfolios"
   ]
  },
  {
   "cell_type": "code",
   "execution_count": null,
   "id": "a7a5bc2d-458c-46bc-a3fa-c1ff463b7480",
   "metadata": {},
   "outputs": [],
   "source": [
    "## Rolling Statistics"
   ]
  },
  {
   "cell_type": "code",
   "execution_count": null,
   "id": "0adf684d-4aa1-431d-8b39-aead253c19a7",
   "metadata": {},
   "outputs": [],
   "source": [
    "# Calculate the rolling standard deviation for all portfolios using a 30-day window"
   ]
  },
  {
   "cell_type": "code",
   "execution_count": null,
   "id": "11f9dd0d-2d2c-4c27-931c-73d2d28db4da",
   "metadata": {},
   "outputs": [],
   "source": [
    "# Plot the rolling standard deviation"
   ]
  },
  {
   "cell_type": "code",
   "execution_count": null,
   "id": "8d3559e2-8508-4bef-8eb7-134b29559a0b",
   "metadata": {},
   "outputs": [],
   "source": [
    "## Correlation"
   ]
  },
  {
   "cell_type": "code",
   "execution_count": null,
   "id": "e87a7199-f7f6-45a2-850d-de5fe9c8f3ab",
   "metadata": {},
   "outputs": [],
   "source": [
    "# Calculate and Plot the correlation"
   ]
  },
  {
   "cell_type": "code",
   "execution_count": null,
   "id": "f2c38cf2-b1ed-4870-9875-e8fc15b1b9ca",
   "metadata": {},
   "outputs": [],
   "source": [
    "## Calculate and Plot Beta for each investment compared to the S&P 500"
   ]
  },
  {
   "cell_type": "code",
   "execution_count": null,
   "id": "40b39412-c129-4b8a-b3ac-39423f6aa95d",
   "metadata": {},
   "outputs": [],
   "source": [
    "# Calculate covariance of each investment"
   ]
  },
  {
   "cell_type": "code",
   "execution_count": null,
   "id": "65ee3c45-4393-4160-83ca-66e43a7756db",
   "metadata": {},
   "outputs": [],
   "source": [
    "# Calculate variance of S&P 500"
   ]
  },
  {
   "cell_type": "code",
   "execution_count": null,
   "id": "ac308676-2ffb-450c-9048-c3547dc5306f",
   "metadata": {},
   "outputs": [],
   "source": [
    "# Compute Beta for each investment"
   ]
  },
  {
   "cell_type": "code",
   "execution_count": null,
   "id": "81bd356a-7bf0-41d5-a1c5-7f9d82c17723",
   "metadata": {},
   "outputs": [],
   "source": [
    "# Plot Beta"
   ]
  },
  {
   "cell_type": "code",
   "execution_count": null,
   "id": "5d87b54e-f487-406d-bbee-4eaf54c93bce",
   "metadata": {},
   "outputs": [],
   "source": [
    "## Sharpe Ratios"
   ]
  },
  {
   "cell_type": "code",
   "execution_count": null,
   "id": "18fcddca-8e47-4b86-acd7-dcf7d278b808",
   "metadata": {},
   "outputs": [],
   "source": [
    "# Calculate annualized sharpe ratios"
   ]
  },
  {
   "cell_type": "code",
   "execution_count": null,
   "id": "f99c5f81-b992-46fe-939a-51d10c5badfd",
   "metadata": {},
   "outputs": [],
   "source": [
    "# Plot the sharpe ratios"
   ]
  }
 ],
 "metadata": {
  "kernelspec": {
   "display_name": "Python 3 (ipykernel)",
   "language": "python",
   "name": "python3"
  },
  "language_info": {
   "codemirror_mode": {
    "name": "ipython",
    "version": 3
   },
   "file_extension": ".py",
   "mimetype": "text/x-python",
   "name": "python",
   "nbconvert_exporter": "python",
   "pygments_lexer": "ipython3",
   "version": "3.11.4"
  }
 },
 "nbformat": 4,
 "nbformat_minor": 5
}
